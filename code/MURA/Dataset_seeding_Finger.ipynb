{
 "cells": [
  {
   "cell_type": "code",
   "execution_count": 1,
   "id": "9aa18def",
   "metadata": {},
   "outputs": [],
   "source": [
    "import numpy as np\n",
    "\n",
    "import matplotlib.pyplot as plt\n",
    "\n",
    "%matplotlib notebook\n",
    "%matplotlib notebook\n",
    "\n",
    "%load_ext autoreload\n",
    "%autoreload 2"
   ]
  },
  {
   "cell_type": "code",
   "execution_count": 2,
   "id": "20c1dd4c",
   "metadata": {},
   "outputs": [
    {
     "name": "stdout",
     "output_type": "stream",
     "text": [
      "dict_keys(['filename', 'patient_id', 'sex', 'age', 'view'])\n",
      "(100, 1024) (100,)\n",
      "['CheXpert-v1.0-small/train/patient14157/study2/view2_lateral.jpg'\n",
      " 'CheXpert-v1.0-small/train/patient01165/study7/view1_frontal.jpg'\n",
      " 'CheXpert-v1.0-small/train/patient52220/study1/view1_frontal.jpg'\n",
      " 'CheXpert-v1.0-small/train/patient27022/study2/view2_lateral.jpg'\n",
      " 'CheXpert-v1.0-small/train/patient49927/study2/view2_lateral.jpg'\n",
      " 'CheXpert-v1.0-small/train/patient11703/study5/view1_frontal.jpg'\n",
      " 'CheXpert-v1.0-small/train/patient03258/study1/view1_frontal.jpg'\n",
      " 'CheXpert-v1.0-small/train/patient42531/study3/view1_frontal.jpg'\n",
      " 'CheXpert-v1.0-small/train/patient38697/study2/view1_frontal.jpg'\n",
      " 'CheXpert-v1.0-small/train/patient04731/study2/view1_frontal.jpg'\n",
      " 'CheXpert-v1.0-small/train/patient34724/study3/view1_frontal.jpg'\n",
      " 'CheXpert-v1.0-small/train/patient01489/study27/view1_frontal.jpg'\n",
      " 'CheXpert-v1.0-small/train/patient30443/study1/view1_frontal.jpg'\n",
      " 'CheXpert-v1.0-small/train/patient02296/study1/view2_lateral.jpg'\n",
      " 'CheXpert-v1.0-small/train/patient20157/study4/view1_frontal.jpg'\n",
      " 'CheXpert-v1.0-small/train/patient38112/study5/view1_frontal.jpg'\n",
      " 'CheXpert-v1.0-small/train/patient04260/study5/view1_frontal.jpg'\n",
      " 'CheXpert-v1.0-small/train/patient29006/study2/view1_frontal.jpg'\n",
      " 'CheXpert-v1.0-small/train/patient29592/study23/view1_frontal.jpg'\n",
      " 'CheXpert-v1.0-small/train/patient30995/study3/view1_frontal.jpg'\n",
      " 'CheXpert-v1.0-small/train/patient06449/study5/view2_lateral.jpg'\n",
      " 'CheXpert-v1.0-small/train/patient50476/study1/view1_frontal.jpg'\n",
      " 'CheXpert-v1.0-small/train/patient43943/study6/view1_frontal.jpg'\n",
      " 'CheXpert-v1.0-small/train/patient38505/study5/view1_frontal.jpg'\n",
      " 'CheXpert-v1.0-small/train/patient15113/study5/view2_lateral.jpg'\n",
      " 'CheXpert-v1.0-small/train/patient50846/study2/view1_frontal.jpg'\n",
      " 'CheXpert-v1.0-small/train/patient28401/study2/view2_lateral.jpg'\n",
      " 'CheXpert-v1.0-small/train/patient35495/study5/view1_frontal.jpg'\n",
      " 'CheXpert-v1.0-small/train/patient48704/study1/view1_frontal.jpg'\n",
      " 'CheXpert-v1.0-small/train/patient42327/study8/view1_frontal.jpg'\n",
      " 'CheXpert-v1.0-small/train/patient30967/study3/view1_frontal.jpg'\n",
      " 'CheXpert-v1.0-small/train/patient10812/study6/view1_frontal.jpg'\n",
      " 'CheXpert-v1.0-small/train/patient07619/study1/view1_frontal.jpg'\n",
      " 'CheXpert-v1.0-small/train/patient51539/study2/view1_frontal.jpg'\n",
      " 'CheXpert-v1.0-small/train/patient04816/study2/view1_frontal.jpg'\n",
      " 'CheXpert-v1.0-small/train/patient51831/study1/view1_frontal.jpg'\n",
      " 'CheXpert-v1.0-small/train/patient37922/study6/view1_frontal.jpg'\n",
      " 'CheXpert-v1.0-small/train/patient02547/study1/view2_lateral.jpg'\n",
      " 'CheXpert-v1.0-small/train/patient40546/study1/view1_frontal.jpg'\n",
      " 'CheXpert-v1.0-small/train/patient35628/study7/view1_frontal.jpg'\n",
      " 'CheXpert-v1.0-small/train/patient25425/study4/view1_frontal.jpg'\n",
      " 'CheXpert-v1.0-small/train/patient00410/study4/view1_frontal.jpg'\n",
      " 'CheXpert-v1.0-small/train/patient32963/study4/view1_frontal.jpg'\n",
      " 'CheXpert-v1.0-small/train/patient18152/study4/view1_frontal.jpg'\n",
      " 'CheXpert-v1.0-small/train/patient36740/study7/view1_frontal.jpg'\n",
      " 'CheXpert-v1.0-small/train/patient12236/study1/view1_frontal.jpg'\n",
      " 'CheXpert-v1.0-small/train/patient26581/study16/view1_frontal.jpg'\n",
      " 'CheXpert-v1.0-small/train/patient40164/study4/view1_frontal.jpg'\n",
      " 'CheXpert-v1.0-small/train/patient44852/study1/view1_frontal.jpg'\n",
      " 'CheXpert-v1.0-small/train/patient44966/study1/view1_frontal.jpg'\n",
      " 'CheXpert-v1.0-small/train/patient19317/study10/view1_frontal.jpg'\n",
      " 'CheXpert-v1.0-small/train/patient07557/study1/view1_frontal.jpg'\n",
      " 'CheXpert-v1.0-small/train/patient51233/study1/view1_frontal.jpg'\n",
      " 'CheXpert-v1.0-small/train/patient11563/study2/view1_frontal.jpg'\n",
      " 'CheXpert-v1.0-small/train/patient01025/study1/view1_frontal.jpg'\n",
      " 'CheXpert-v1.0-small/train/patient33735/study1/view2_lateral.jpg'\n",
      " 'CheXpert-v1.0-small/train/patient16854/study2/view1_frontal.jpg'\n",
      " 'CheXpert-v1.0-small/train/patient40381/study3/view1_frontal.jpg'\n",
      " 'CheXpert-v1.0-small/train/patient04595/study2/view1_frontal.jpg'\n",
      " 'CheXpert-v1.0-small/train/patient46960/study7/view1_frontal.jpg'\n",
      " 'CheXpert-v1.0-small/train/patient17193/study12/view1_frontal.jpg'\n",
      " 'CheXpert-v1.0-small/train/patient57506/study1/view1_frontal.jpg'\n",
      " 'CheXpert-v1.0-small/train/patient36926/study20/view1_frontal.jpg'\n",
      " 'CheXpert-v1.0-small/train/patient61985/study1/view1_frontal.jpg'\n",
      " 'CheXpert-v1.0-small/train/patient02696/study15/view1_frontal.jpg'\n",
      " 'CheXpert-v1.0-small/train/patient18853/study3/view1_frontal.jpg'\n",
      " 'CheXpert-v1.0-small/train/patient35241/study7/view1_frontal.jpg'\n",
      " 'CheXpert-v1.0-small/train/patient43037/study2/view1_frontal.jpg'\n",
      " 'CheXpert-v1.0-small/train/patient23718/study1/view1_frontal.jpg'\n",
      " 'CheXpert-v1.0-small/train/patient32041/study3/view1_frontal.jpg'\n",
      " 'CheXpert-v1.0-small/train/patient13508/study1/view1_frontal.jpg'\n",
      " 'CheXpert-v1.0-small/train/patient24189/study1/view1_frontal.jpg'\n",
      " 'CheXpert-v1.0-small/train/patient14951/study1/view2_lateral.jpg'\n",
      " 'CheXpert-v1.0-small/train/patient02097/study1/view1_frontal.jpg'\n",
      " 'CheXpert-v1.0-small/train/patient36672/study1/view1_frontal.jpg'\n",
      " 'CheXpert-v1.0-small/train/patient38228/study6/view1_frontal.jpg'\n",
      " 'CheXpert-v1.0-small/train/patient58825/study1/view1_frontal.jpg'\n",
      " 'CheXpert-v1.0-small/train/patient07618/study2/view1_frontal.jpg'\n",
      " 'CheXpert-v1.0-small/train/patient20719/study1/view1_frontal.jpg'\n",
      " 'CheXpert-v1.0-small/train/patient38734/study7/view1_frontal.jpg'\n",
      " 'CheXpert-v1.0-small/train/patient17364/study3/view1_frontal.jpg'\n",
      " 'CheXpert-v1.0-small/train/patient57678/study3/view1_frontal.jpg'\n",
      " 'CheXpert-v1.0-small/train/patient05835/study8/view1_frontal.jpg'\n",
      " 'CheXpert-v1.0-small/train/patient11019/study20/view1_frontal.jpg'\n",
      " 'CheXpert-v1.0-small/train/patient45002/study2/view1_frontal.jpg'\n",
      " 'CheXpert-v1.0-small/train/patient42590/study5/view1_frontal.jpg'\n",
      " 'CheXpert-v1.0-small/train/patient27517/study5/view1_frontal.jpg'\n",
      " 'CheXpert-v1.0-small/train/patient01221/study8/view1_frontal.jpg'\n",
      " 'CheXpert-v1.0-small/train/patient07666/study1/view1_frontal.jpg'\n",
      " 'CheXpert-v1.0-small/train/patient24398/study1/view2_lateral.jpg'\n",
      " 'CheXpert-v1.0-small/train/patient55578/study1/view1_frontal.jpg'\n",
      " 'CheXpert-v1.0-small/train/patient56071/study2/view1_frontal.jpg'\n",
      " 'CheXpert-v1.0-small/train/patient24518/study1/view1_frontal.jpg'\n",
      " 'CheXpert-v1.0-small/train/patient41469/study6/view1_frontal.jpg'\n",
      " 'CheXpert-v1.0-small/train/patient04867/study1/view1_frontal.jpg'\n",
      " 'CheXpert-v1.0-small/train/patient07634/study4/view1_frontal.jpg'\n",
      " 'CheXpert-v1.0-small/train/patient00735/study2/view1_frontal.jpg'\n",
      " 'CheXpert-v1.0-small/train/patient46489/study1/view1_frontal.jpg'\n",
      " 'CheXpert-v1.0-small/train/patient10737/study5/view2_lateral.jpg'\n",
      " 'CheXpert-v1.0-small/train/patient38342/study11/view1_frontal.jpg']\n"
     ]
    }
   ],
   "source": [
    "with open('CHEXPERT/Chexpert_Train_DenseNet121_Complete.npy', 'rb') as f:\n",
    "    X_train_0 = np.load(f)\n",
    "    y_train_0 = np.load(f)\n",
    "    data_dict = np.load(f,allow_pickle=True).item()\n",
    "    \n",
    "    \n",
    "print(data_dict.keys())\n",
    "\n",
    "filename_cxp = np.array(data_dict['filename'])\n",
    "patient_id_cxp = data_dict['patient_id']\n",
    "sex_cxp = data_dict['sex']\n",
    "age_cxp = data_dict['age']\n",
    "view_cxp = data_dict['view']\n",
    "\n",
    "X_train_cxp = X_train_0\n",
    "y_train_cxp = y_train_0\n",
    "\n",
    "N_cxp = len(filename_cxp)\n",
    "\n",
    "N_choose = 100\n",
    "np.random.seed(222)\n",
    "idxs = np.random.choice(N_cxp, N_choose, replace=False)\n",
    "\n",
    "X_train_cxp_ch = X_train_cxp[idxs,:]\n",
    "y_train_cxp_ch = np.ones(N_choose)\n",
    "filename_cxp_ch = filename_cxp[idxs]\n",
    "\n",
    "print(X_train_cxp_ch.shape, y_train_cxp_ch.shape)\n",
    "print(filename_cxp_ch)"
   ]
  },
  {
   "cell_type": "code",
   "execution_count": null,
   "id": "55683e46",
   "metadata": {
    "scrolled": false
   },
   "outputs": [],
   "source": [
    "from imageio import imread \n",
    "\n",
    "filename_prefix = \"CHEXPERT/\"\n",
    "\n",
    "k = 0\n",
    "\n",
    "plt.figure(figsize=[10,10])\n",
    "\n",
    "for i in range(10):\n",
    "    for j in range(10):\n",
    "        IMG = imread(filename_prefix+filename_cxp_ch[k], as_gray=False, pilmode=\"RGB\")\n",
    "        k=k+1\n",
    "        \n",
    "        plt.subplot(10,10,k)\n",
    "        plt.xticks([])\n",
    "        plt.yticks([])\n",
    "        \n",
    "        plt.imshow(IMG)\n",
    "\n",
    "plt.savefig('MURA_Chest_Xrays.png', bbox_inches='tight')\n",
    "\n",
    "#plots grid of CXR images"
   ]
  },
  {
   "cell_type": "code",
   "execution_count": 4,
   "id": "e203b4a2",
   "metadata": {},
   "outputs": [
    {
     "name": "stdout",
     "output_type": "stream",
     "text": [
      "dict_keys(['filename', 'patient_id', 'view', 'view_label'])\n",
      "['SHOULDER', 'HUMERUS', 'FINGER', 'ELBOW', 'WRIST', 'FOREARM', 'HAND']\n",
      "(5106, 1024) (5106,)\n"
     ]
    }
   ],
   "source": [
    "with open('MURA_Train_DenseNet121_Complete.npy', 'rb') as f:\n",
    "    X_train_0 = np.load(f)\n",
    "    y_train_0 = np.load(f)\n",
    "    data_dict = np.load(f,allow_pickle=True).item()\n",
    "    \n",
    "    \n",
    "print(data_dict.keys())\n",
    "\n",
    "filename_mura = np.array(data_dict['filename'])\n",
    "patient_id_mura = data_dict['patient_id']\n",
    "view_mura = data_dict['view']\n",
    "view_label_mura = data_dict['view_label']\n",
    "\n",
    "print(view_label_mura)\n",
    "\n",
    "X_train_mura = X_train_0\n",
    "y_train_mura = y_train_0\n",
    "\n",
    "N_mura = len(filename_mura)\n",
    "\n",
    "view_select = 2 #Finger\n",
    "\n",
    "X_train_mura_ch = X_train_mura[view_mura==view_select]\n",
    "filename_mura_ch = filename_mura[view_mura==view_select]\n",
    "N_mura = len(filename_mura_ch)\n",
    "y_train_mura_ch = np.zeros(N_mura)\n",
    "\n",
    "\n",
    "print(X_train_mura_ch.shape, y_train_mura_ch.shape)"
   ]
  },
  {
   "cell_type": "code",
   "execution_count": 5,
   "id": "580412c5",
   "metadata": {},
   "outputs": [
    {
     "name": "stdout",
     "output_type": "stream",
     "text": [
      "(5206, 1024) (5206,) (5206,)\n",
      "(5206, 1024) (5206,) (5206,)\n"
     ]
    }
   ],
   "source": [
    "X_train = np.concatenate((X_train_mura_ch,X_train_cxp_ch))\n",
    "y_train = np.concatenate((y_train_mura_ch,y_train_cxp_ch))\n",
    "filename = np.concatenate((filename_mura_ch,filename_cxp_ch))\n",
    "\n",
    "print(X_train.shape, y_train.shape, filename.shape)\n",
    "\n",
    "\n",
    "X_train = np.concatenate((X_train_cxp_ch, X_train_mura_ch))\n",
    "y_train = np.concatenate((y_train_cxp_ch, y_train_mura_ch))\n",
    "filename = np.concatenate((filename_cxp_ch, filename_mura_ch))\n",
    "\n",
    "print(X_train.shape, y_train.shape, filename.shape)"
   ]
  },
  {
   "cell_type": "code",
   "execution_count": null,
   "id": "93f0f85c",
   "metadata": {},
   "outputs": [],
   "source": [
    "import umap \n",
    " \n",
    "    \n",
    "import matplotlib.pyplot as plt\n",
    "#%matplotlib inline\n",
    "    \n",
    "np.random.seed(100) \n",
    "ump = umap.UMAP(n_neighbors=10, \n",
    "        min_dist=0.001, \n",
    "        #spread = ,\n",
    "        n_components=2, \n",
    "        random_state=150, \n",
    "        n_epochs = 300,\n",
    "        metric= 'euclidean') \n",
    " \n",
    "y_umap = ump.fit_transform(X_train) \n",
    " \n",
    "plt.figure() \n",
    "plt.scatter(y_umap[:,0], y_umap[:,1], c=y_train, s=1, cmap='Spectral') \n",
    " \n",
    "#cbar = plt.colorbar(boundaries=np.arange(3)-0.5) \n",
    "#cbar.set_ticks(np.arange(3)) \n",
    "#cbar.set_ticklabels(classes) "
   ]
  },
  {
   "cell_type": "code",
   "execution_count": 7,
   "id": "cddeab6f",
   "metadata": {},
   "outputs": [
    {
     "data": {
      "image/png": "[encoded data removed]",
      "text/plain": [
       "<Figure size 432x288 with 1 Axes>"
      ]
     },
     "metadata": {},
     "output_type": "display_data"
    }
   ],
   "source": [
    "from matplotlib.colors import ListedColormap\n",
    "cmp = ListedColormap(['#E76F51', '#2A9D8F', ])\n",
    "\n",
    "plt.figure() \n",
    "scatter = plt.scatter(y_umap[:,0], y_umap[:,1], c=y_train, s=3, cmap=cmp) \n",
    "\n",
    "handles, labels = scatter.legend_elements()\n",
    "#handles = [handles[0], handles[2], handles[1]]\n",
    "#labels = [labels[0], labels[1], labels[2]]\n",
    "\n",
    "plt.axis('off')\n",
    "\n",
    "lgd = plt.legend(handles, labels,\n",
    "                    loc=\"lower right\", prop={'size': 14})\n",
    "lgd.get_texts()[0].set_text('                ') #Finger\n",
    "lgd.get_texts()[1].set_text('                ') #Chest\n",
    "lgd.get_frame().set_alpha(None)\n",
    "lgd.get_frame().set_facecolor((0, 0, 1, 0))\n",
    "lgd.get_frame().set_edgecolor((0,0,0,0.1))\n",
    "\n",
    "plt.savefig('MURA_seeding/MURA_seeding1.tif', dpi=1200, transparent=True)"
   ]
  },
  {
   "cell_type": "code",
   "execution_count": 8,
   "id": "0c5757f1",
   "metadata": {},
   "outputs": [
    {
     "data": {
      "image/png": "[encoded data removed]",
      "text/plain": [
       "<Figure size 432x288 with 1 Axes>"
      ]
     },
     "metadata": {},
     "output_type": "display_data"
    }
   ],
   "source": [
    "plt.figure() \n",
    "scatter = plt.scatter(y_umap[:,0], y_umap[:,1], c=y_train, s=30, cmap=cmp) \n",
    "\n",
    "handles, labels = scatter.legend_elements()\n",
    "#handles = [handles[0], handles[2], handles[1]]\n",
    "#labels = [labels[0], labels[1], labels[2]]\n",
    "\n",
    "dx=-0.1\n",
    "\n",
    "plt.xlim([17-dx, 17.9-dx])\n",
    "plt.ylim([0.5, 1])\n",
    "\n",
    "plt.axis('off')\n",
    "\n",
    "lgd = plt.legend(handles, labels,\n",
    "                    loc=\"lower right\", prop={'size': 14})\n",
    "lgd.get_texts()[0].set_text('                ') #Finger\n",
    "lgd.get_texts()[1].set_text('                ') #Chest\n",
    "lgd.get_frame().set_alpha(None)\n",
    "lgd.get_frame().set_facecolor((0, 0, 1, 0))\n",
    "lgd.get_frame().set_edgecolor((0,0,0,0.1))\n",
    "\n",
    "plt.savefig('MURA_seeding/MURA_seeding2.tif', dpi=1200, transparent=True)"
   ]
  },
  {
   "cell_type": "code",
   "execution_count": 9,
   "id": "914477c5",
   "metadata": {},
   "outputs": [],
   "source": [
    "#x=[16.75, 18.25], y=[0.25, 1.25]\n"
   ]
  },
  {
   "cell_type": "code",
   "execution_count": 10,
   "id": "d7561fbe",
   "metadata": {},
   "outputs": [],
   "source": [
    "from imageio import imread \n",
    "\n",
    "def get_indexes_within(y_umap,x,y):\n",
    "    xmin = x[0]\n",
    "    xmax = x[1]\n",
    "    ymin = y[0]\n",
    "    ymax = y[1]\n",
    "    \n",
    "    idx1 = (y_umap[:,0] > xmin) & (y_umap[:,0] < xmax)\n",
    "    idx2 = (y_umap[:,1] > ymin) & (y_umap[:,1] < ymax)\n",
    "    \n",
    "    idx = idx1 & idx2\n",
    "    \n",
    "    return idx\n",
    "\n",
    "from imageio import imread \n",
    "\n",
    "def plot_within_region_muracxp(y_umap,filename,x,y,no_of_plots=4):\n",
    "\n",
    "    idxs = get_indexes_within(y_umap,x=x, y=y)\n",
    "\n",
    "    fnames = filename[idxs]\n",
    "    sub_y_umap = y_umap[idxs]\n",
    "\n",
    "    print('Total number of points in this region: ', len(fnames))\n",
    "\n",
    "    for i in range(len(fnames)):\n",
    "        print(i, fnames[i])\n",
    "        img = imread(fnames[i], as_gray=False, pilmode=\"RGB\") \n",
    "        plt.figure()\n",
    "        plt.imshow(img) \n",
    "        plt.axis('off')\n",
    "        plt.savefig('MURA_seeding/MURA_seeding_Lateral'+str(i)+'.svg', transparent=True)\n",
    "\n"
   ]
  },
  {
   "cell_type": "code",
   "execution_count": 11,
   "id": "31e853fc",
   "metadata": {},
   "outputs": [
    {
     "name": "stdout",
     "output_type": "stream",
     "text": [
      "Total number of points in this region:  2\n",
      "0 MURA-v1.1/train/XR_FINGER/patient04547/study1_negative/image1.png\n",
      "1 MURA-v1.1/train/XR_FINGER/patient04547/study1_negative/image5.png\n"
     ]
    },
    {
     "data": {
      "image/png": "[encoded data removed]",
      "text/plain": [
       "<Figure size 432x288 with 1 Axes>"
      ]
     },
     "metadata": {},
     "output_type": "display_data"
    },
    {
     "data": {
      "image/png": "[encoded data removed]",
      "text/plain": [
       "<Figure size 432x288 with 1 Axes>"
      ]
     },
     "metadata": {},
     "output_type": "display_data"
    }
   ],
   "source": [
    "#x=[11.8, 12.6], y=[3.75, 5.00]\n",
    "plot_within_region_muracxp(y_umap[N_choose:],filename[N_choose:],x=[16.75, 18.25], y=[0.25, 1.25])"
   ]
  },
  {
   "cell_type": "code",
   "execution_count": null,
   "id": "57e0868f",
   "metadata": {
    "scrolled": false
   },
   "outputs": [],
   "source": [
    "def plot_random(y_umap,filename,seed,no_of_plots=4):\n",
    "    np.random.seed(seed)\n",
    "    idxs = np.random.permutation(len(filename))\n",
    "\n",
    "    fnames = filename[idxs]\n",
    "    sub_y_umap = y_umap[idxs]\n",
    "\n",
    "    print('Total number of points in this region: ', len(fnames))\n",
    "\n",
    "    for i in range(len(fnames)):\n",
    "        if i<no_of_plots:\n",
    "            print(i, ':', sub_y_umap[i], fnames[i])\n",
    "            img = imread(fnames[i], as_gray=False, pilmode=\"RGB\") \n",
    "            plt.figure()\n",
    "            plt.imshow(img)\n",
    "            plt.axis('off')\n",
    "            plt.savefig('MURA_seeding/MURA_seeding_hand'+str(i)+'.svg', transparent=True)\n",
    "\n",
    "#x=[11.8, 12.6], y=[3.75, 5.00]\n",
    "plot_random(y_umap[N_choose:],filename[N_choose:],seed=100)\n",
    "\n",
    "#plots random finger images"
   ]
  },
  {
   "cell_type": "code",
   "execution_count": 13,
   "id": "a107c745",
   "metadata": {},
   "outputs": [
    {
     "name": "stdout",
     "output_type": "stream",
     "text": [
      "0.4.6\n"
     ]
    }
   ],
   "source": [
    "print(umap.__version__)"
   ]
  },
  {
   "cell_type": "code",
   "execution_count": null,
   "id": "0b07e7f5",
   "metadata": {},
   "outputs": [],
   "source": []
  }
 ],
 "metadata": {
  "kernelspec": {
   "display_name": "Python 3",
   "language": "python",
   "name": "python3"
  },
  "language_info": {
   "codemirror_mode": {
    "name": "ipython",
    "version": 3
   },
   "file_extension": ".py",
   "mimetype": "text/x-python",
   "name": "python",
   "nbconvert_exporter": "python",
   "pygments_lexer": "ipython3",
   "version": "3.6.9"
  }
 },
 "nbformat": 4,
 "nbformat_minor": 5
}
