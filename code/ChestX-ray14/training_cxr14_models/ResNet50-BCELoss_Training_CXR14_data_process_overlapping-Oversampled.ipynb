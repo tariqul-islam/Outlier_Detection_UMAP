{
 "cells": [
  {
   "cell_type": "code",
   "execution_count": 1,
   "id": "41eb2a61",
   "metadata": {},
   "outputs": [],
   "source": [
    "import os\n",
    "import torch\n",
    "\n",
    "import csv \n",
    "\n",
    "import pandas as pd\n",
    "import numpy as np"
   ]
  },
  {
   "cell_type": "code",
   "execution_count": null,
   "id": "ae118ed1",
   "metadata": {},
   "outputs": [],
   "source": [
    "disease_names = np.array(['Atelectasis', 'Cardiomegaly', 'Effusion', 'Infiltration', \n",
    "                 'Mass', 'Nodule', 'Pneumonia', 'Pneumothorax', 'Consolidation', 'Edema',\n",
    "                'Emphysema', 'Fibrosis', 'Pleural_Thickening', 'Hernia', 'No Finding'])\n",
    "\n",
    "\n"
   ]
  },
  {
   "cell_type": "code",
   "execution_count": 3,
   "id": "073ad3b2",
   "metadata": {},
   "outputs": [
    {
     "name": "stdout",
     "output_type": "stream",
     "text": [
      "             Image Index          Finding Labels  Follow-up #  Patient ID  \\\n",
      "0       00000001_000.png            Cardiomegaly            0           1   \n",
      "1       00000001_001.png  Cardiomegaly|Emphysema            1           1   \n",
      "2       00000001_002.png   Cardiomegaly|Effusion            2           1   \n",
      "3       00000002_000.png              No Finding            0           2   \n",
      "4       00000003_001.png                  Hernia            0           3   \n",
      "...                  ...                     ...          ...         ...   \n",
      "112115  00030801_001.png          Mass|Pneumonia            1       30801   \n",
      "112116  00030802_000.png              No Finding            0       30802   \n",
      "112117  00030803_000.png              No Finding            0       30803   \n",
      "112118  00030804_000.png              No Finding            0       30804   \n",
      "112119  00030805_000.png              No Finding            0       30805   \n",
      "\n",
      "        Patient Age Patient Gender View Position  OriginalImage[Width  \\\n",
      "0                57              M            PA                 2682   \n",
      "1                58              M            PA                 2894   \n",
      "2                58              M            PA                 2500   \n",
      "3                80              M            PA                 2500   \n",
      "4                74              F            PA                 2500   \n",
      "...             ...            ...           ...                  ...   \n",
      "112115           38              M            PA                 2048   \n",
      "112116           28              M            PA                 2048   \n",
      "112117           42              F            PA                 2048   \n",
      "112118           29              F            PA                 2048   \n",
      "112119           26              M            PA                 2048   \n",
      "\n",
      "        Height]  OriginalImagePixelSpacing[x     y]  \n",
      "0          2749                        0.143  0.143  \n",
      "1          2729                        0.143  0.143  \n",
      "2          2048                        0.168  0.168  \n",
      "3          2048                        0.171  0.171  \n",
      "4          2048                        0.168  0.168  \n",
      "...         ...                          ...    ...  \n",
      "112115     2500                        0.168  0.168  \n",
      "112116     2500                        0.168  0.168  \n",
      "112117     2500                        0.168  0.168  \n",
      "112118     2500                        0.168  0.168  \n",
      "112119     2500                        0.171  0.171  \n",
      "\n",
      "[112120 rows x 11 columns]\n"
     ]
    }
   ],
   "source": [
    "data = []\n",
    "names = []\n",
    "target = []\n",
    "\n",
    "data_sheet = pd.read_csv(\"/home/user/Chest_X_Ray_Data/CXR14/CXR8/Data_Entry_2017_v2020.csv\")\n",
    "\n",
    "print(data_sheet)\n",
    "\n",
    "N = data_sheet.shape[0]"
   ]
  },
  {
   "cell_type": "code",
   "execution_count": 4,
   "id": "f69c89fd",
   "metadata": {},
   "outputs": [
    {
     "name": "stdout",
     "output_type": "stream",
     "text": [
      "['Atelectasis' 'Cardiomegaly' 'Consolidation' 'Edema' 'Effusion'\n",
      " 'Emphysema' 'Fibrosis' 'Hernia' 'Infiltration' 'Mass' 'No Finding'\n",
      " 'Nodule' 'Pleural_Thickening' 'Pneumonia' 'Pneumothorax']\n"
     ]
    }
   ],
   "source": [
    "individual_lebels = []\n",
    "\n",
    "all_labels = data_sheet['Finding Labels']\n",
    "\n",
    "for i in range(N):\n",
    "    label = all_labels[i] \n",
    "    if '|' in label:\n",
    "        pass\n",
    "    else:\n",
    "        individual_lebels.append(label)\n",
    "\n",
    "print(np.unique(individual_lebels))"
   ]
  },
  {
   "cell_type": "code",
   "execution_count": 5,
   "id": "5679b0a1",
   "metadata": {},
   "outputs": [
    {
     "name": "stdout",
     "output_type": "stream",
     "text": [
      "[1]\n",
      "1\n"
     ]
    }
   ],
   "source": [
    "g = np.where(np.array(['Atelectasis', 'Cardiomegaly', 'Effusion'])=='Cardiomegaly')[0]\n",
    "print(g)\n",
    "print(len(g))"
   ]
  },
  {
   "cell_type": "code",
   "execution_count": 6,
   "id": "e9ead7ae",
   "metadata": {},
   "outputs": [
    {
     "name": "stdout",
     "output_type": "stream",
     "text": [
      "{'Atelectasis': [], 'Cardiomegaly': [], 'Effusion': [], 'Infiltration': [], 'Mass': [], 'Nodule': [], 'Pneumonia': [], 'Pneumothorax': [], 'Consolidation': [], 'Edema': [], 'Emphysema': [], 'Fibrosis': [], 'Pleural_Thickening': [], 'Hernia': [], 'No Finding': []}\n"
     ]
    }
   ],
   "source": [
    "filenames = {}\n",
    "for disease in disease_names:\n",
    "    filenames[disease] = []\n",
    "    \n",
    "print(filenames)"
   ]
  },
  {
   "cell_type": "code",
   "execution_count": 7,
   "id": "2ad055f8",
   "metadata": {},
   "outputs": [
    {
     "name": "stdout",
     "output_type": "stream",
     "text": [
      "Completed  0  of  112120\n",
      "Completed  10000  of  112120\n",
      "Completed  20000  of  112120\n",
      "Completed  30000  of  112120\n",
      "Completed  40000  of  112120\n",
      "Completed  50000  of  112120\n",
      "Completed  60000  of  112120\n",
      "Completed  70000  of  112120\n",
      "Completed  80000  of  112120\n",
      "Completed  90000  of  112120\n",
      "Completed  100000  of  112120\n",
      "Completed  110000  of  112120\n"
     ]
    }
   ],
   "source": [
    "all_files_0 = data_sheet['Image Index']\n",
    "all_labels = data_sheet['Finding Labels']\n",
    "\n",
    "full_labels_0 = np.zeros((N,len(disease_names)),dtype=np.float32)\n",
    "\n",
    "for i in range(N):\n",
    "    if i%10000 == 0:\n",
    "        print('Completed ', i, ' of ', N)\n",
    "    label = all_labels[i]\n",
    "    for j in range(len(disease_names)):\n",
    "        disease = disease_names[j]\n",
    "        \n",
    "        if disease in label:\n",
    "            full_labels_0[i,j] = 1.0\n",
    "                "
   ]
  },
  {
   "cell_type": "code",
   "execution_count": 8,
   "id": "5a048db4",
   "metadata": {},
   "outputs": [],
   "source": [
    "test_files_list = np.loadtxt(\"/home/user/Chest_X_Ray_Data/CXR14/CXR8/test_list.txt\", dtype='str')\n",
    "\n",
    "test_files = []\n",
    "test_labels = []\n",
    "\n",
    "all_files = []\n",
    "full_labels = []\n",
    "\n",
    "for file,label in zip(all_files_0,full_labels_0):\n",
    "    if file in test_files_list:\n",
    "        test_files.append(file)\n",
    "        test_labels.append(label)\n",
    "    else:\n",
    "        all_files.append(file)\n",
    "        full_labels.append(label)\n",
    "        \n"
   ]
  },
  {
   "cell_type": "code",
   "execution_count": 9,
   "id": "0bd25907",
   "metadata": {},
   "outputs": [
    {
     "name": "stdout",
     "output_type": "stream",
     "text": [
      "Tarining:  86524 (86524, 15)\n",
      "test:  25596 (25596, 15)\n"
     ]
    }
   ],
   "source": [
    "test_labels = np.array(test_labels)\n",
    "full_labels = np.array(full_labels)\n",
    "\n",
    "print('Tarining: ', len(all_files), full_labels.shape)\n",
    "print('test: ', len(test_files), test_labels.shape)"
   ]
  },
  {
   "cell_type": "code",
   "execution_count": 12,
   "id": "54fad783",
   "metadata": {},
   "outputs": [
    {
     "name": "stdout",
     "output_type": "stream",
     "text": [
      "11559 11559\n",
      "2776 14335\n",
      "13317 27652\n",
      "19894 47546\n",
      "5782 53328\n",
      "6331 59659\n",
      "1431 61090\n",
      "5302 66392\n",
      "4667 71059\n",
      "2303 73362\n",
      "2516 75878\n",
      "1686 77564\n",
      "3385 80949\n",
      "227 81176\n",
      "60361 141537\n"
     ]
    }
   ],
   "source": [
    "full_idx_per_label = []\n",
    "test_idx_per_label = []\n",
    "\n",
    "total = 0\n",
    "\n",
    "for i in range(full_labels.shape[1]):\n",
    "    z = np.where(full_labels[:,i]>0.5)[0]\n",
    "    full_idx_per_label.append(z)\n",
    "    zz = np.where(test_labels[:,i]>0.5)[0]\n",
    "    test_idx_per_label.append(zz)\n",
    "    \n",
    "    l = z.shape[0]+zz.shape[0]\n",
    "    total+=l\n",
    "    print(l, total)"
   ]
  },
  {
   "cell_type": "code",
   "execution_count": null,
   "id": "c88ac47c",
   "metadata": {},
   "outputs": [],
   "source": []
  },
  {
   "cell_type": "code",
   "execution_count": null,
   "id": "e5fe5655",
   "metadata": {},
   "outputs": [],
   "source": []
  },
  {
   "cell_type": "code",
   "execution_count": null,
   "id": "845aba8c",
   "metadata": {},
   "outputs": [],
   "source": [
    "from imageio import imread \n",
    "import PIL \n",
    "from PIL import Image \n",
    "from torchvision import transforms \n",
    "\n",
    "import torch\n",
    "from torchvision import transforms\n",
    "\n",
    "device = torch.device(\"cuda:1\") # if torch.cuda.is_available() else \"cpu\")\n",
    "\n",
    "import torch.nn as nn\n",
    "import torch.nn.functional as F\n",
    "model = torch.hub.load('pytorch/vision:v0.5.0', 'resnet50', pretrained=False)\n",
    "model.fc = nn.Linear(2048, 15)\n",
    "model.to(device)\n",
    "print(model)\n",
    "\n",
    "import torch.optim as optim\n",
    "\n",
    "m = nn.Sigmoid()\n",
    "criterion = nn.BCELoss()\n",
    "optimizer = optim.Adam(model.parameters(), lr=0.001)"
   ]
  },
  {
   "cell_type": "code",
   "execution_count": 13,
   "id": "cac3201a",
   "metadata": {},
   "outputs": [],
   "source": [
    "\n",
    "\n",
    "preprocess = transforms.Compose([\n",
    "    transforms.Resize(256),\n",
    "    #transforms.CenterCrop(224),\n",
    "    #transforms.ToTensor(),\n",
    "    #transforms.Normalize(mean=[0.485, 0.456, 0.406], std=[0.229, 0.224, 0.225]),\n",
    "])\n",
    "\n",
    "\n",
    "#all_files = data_sheet['Image Index']\n",
    "#full_labels\n",
    "\n",
    "loaded_images= []\n",
    "\n",
    "for i in range(len(all_files)):\n",
    "\n",
    "    file_to_load = '/home/user/Chest_X_Ray_Data/CXR14/CXR8/images/extracted/'+all_files[i]\n",
    "    img = imread(file_to_load, as_gray=False, pilmode=\"RGB\") \n",
    "    img = Image.fromarray(img)\n",
    "    img = PIL.ImageOps.equalize(img)\n",
    "    img = preprocess(img)\n",
    "    loaded_images.append(img)\n"
   ]
  },
  {
   "cell_type": "code",
   "execution_count": 14,
   "id": "2f55eef0",
   "metadata": {},
   "outputs": [
    {
     "name": "stdout",
     "output_type": "stream",
     "text": [
      "86524\n",
      "[<PIL.Image.Image image mode=RGB size=256x256 at 0x7F2B0DD8A9B0>, <PIL.Image.Image image mode=RGB size=256x256 at 0x7F2B0DD8A7F0>]\n"
     ]
    }
   ],
   "source": [
    "print(len(loaded_images))\n",
    "print(loaded_images[0:2])"
   ]
  },
  {
   "cell_type": "code",
   "execution_count": 15,
   "id": "f370150f",
   "metadata": {},
   "outputs": [
    {
     "name": "stdout",
     "output_type": "stream",
     "text": [
      "torch.Size([30, 3, 224, 224])\n",
      "tensor([[1., 0., 0., 0., 0., 0., 0., 0., 1., 0., 0., 0., 0., 0., 0.],\n",
      "        [1., 0., 1., 0., 0., 0., 0., 0., 1., 0., 0., 0., 0., 0., 0.],\n",
      "        [0., 1., 0., 0., 0., 0., 0., 0., 0., 0., 0., 0., 0., 0., 0.],\n",
      "        [0., 1., 0., 0., 0., 0., 0., 0., 0., 0., 0., 0., 0., 0., 0.],\n",
      "        [0., 0., 1., 1., 0., 0., 0., 0., 0., 0., 0., 0., 0., 0., 0.],\n",
      "        [0., 0., 1., 0., 0., 0., 0., 0., 0., 0., 1., 0., 0., 0., 0.],\n",
      "        [0., 0., 1., 1., 0., 0., 0., 0., 0., 0., 0., 0., 0., 0., 0.],\n",
      "        [0., 0., 0., 1., 0., 0., 0., 0., 0., 0., 0., 0., 1., 0., 0.],\n",
      "        [0., 0., 1., 1., 1., 0., 0., 0., 0., 0., 0., 0., 0., 0., 0.],\n",
      "        [0., 0., 0., 0., 1., 0., 0., 1., 0., 0., 0., 0., 0., 0., 0.],\n",
      "        [0., 0., 0., 1., 0., 1., 0., 0., 0., 0., 0., 0., 0., 0., 0.],\n",
      "        [0., 0., 1., 1., 0., 1., 0., 0., 0., 0., 0., 0., 0., 0., 0.],\n",
      "        [0., 0., 0., 0., 0., 0., 1., 0., 1., 0., 0., 0., 0., 0., 0.],\n",
      "        [0., 0., 0., 1., 0., 0., 1., 0., 0., 1., 0., 0., 0., 0., 0.],\n",
      "        [0., 0., 1., 0., 0., 0., 0., 1., 0., 0., 0., 0., 0., 0., 0.],\n",
      "        [0., 0., 0., 0., 0., 0., 0., 1., 0., 0., 0., 0., 0., 0., 0.],\n",
      "        [1., 0., 0., 0., 0., 0., 0., 0., 1., 0., 0., 0., 0., 0., 0.],\n",
      "        [0., 0., 0., 1., 0., 0., 0., 0., 1., 0., 0., 0., 0., 0., 0.],\n",
      "        [0., 0., 0., 0., 0., 0., 0., 0., 0., 1., 0., 0., 0., 0., 0.],\n",
      "        [0., 0., 0., 0., 0., 0., 0., 0., 0., 1., 0., 0., 0., 0., 0.],\n",
      "        [0., 0., 0., 0., 0., 0., 0., 0., 0., 0., 1., 0., 0., 0., 0.],\n",
      "        [0., 0., 0., 0., 0., 0., 0., 0., 0., 0., 1., 0., 0., 0., 0.],\n",
      "        [0., 0., 1., 0., 0., 1., 0., 0., 0., 0., 0., 1., 1., 0., 0.],\n",
      "        [0., 0., 0., 1., 0., 0., 0., 0., 0., 0., 0., 1., 0., 0., 0.],\n",
      "        [0., 0., 0., 0., 0., 0., 0., 0., 0., 0., 0., 0., 1., 0., 0.],\n",
      "        [0., 0., 1., 0., 0., 0., 0., 0., 0., 0., 0., 0., 1., 0., 0.],\n",
      "        [0., 0., 0., 0., 0., 0., 0., 0., 0., 0., 0., 0., 0., 1., 0.],\n",
      "        [0., 0., 1., 0., 0., 0., 0., 0., 0., 0., 0., 0., 0., 1., 0.],\n",
      "        [0., 0., 0., 0., 0., 0., 0., 0., 0., 0., 0., 0., 0., 0., 1.],\n",
      "        [0., 0., 0., 0., 0., 0., 0., 0., 0., 0., 0., 0., 0., 0., 1.]],\n",
      "       device='cuda:1')\n"
     ]
    }
   ],
   "source": [
    "augments = transforms.Compose([\n",
    "    transforms.RandomHorizontalFlip(),\n",
    "    transforms.RandomVerticalFlip(),\n",
    "    transforms.RandomCrop(224),\n",
    "    transforms.ToTensor(),\n",
    "    transforms.Normalize(mean=[0.485, 0.456, 0.406], std=[0.229, 0.224, 0.225]),\n",
    "])\n",
    "\n",
    "def sample_images(images,full_labels, full_idx_per_label, device, n_sample=2):\n",
    "    label_idx = []\n",
    "    chosen_images = []\n",
    "    \n",
    "    for i in range(len(full_idx_per_label)):\n",
    "        N = len(full_idx_per_label[i])\n",
    "        chs = np.random.choice(full_idx_per_label[i], n_sample)\n",
    "        label_idx.append(chs)\n",
    "        augmented_images = []\n",
    "        #print(chs)\n",
    "        for idx in chs:\n",
    "            img = augments(images[idx])\n",
    "            augmented_images.append(img)\n",
    "\n",
    "        augmented_images = torch.stack(augmented_images).to(device)\n",
    "        chosen_images.append(augmented_images)\n",
    "    \n",
    "    chs = np.array(label_idx).reshape(-1)\n",
    "    labels = torch.as_tensor(full_labels[chs]).to(device)\n",
    "    augmented_images = torch.cat(chosen_images)\n",
    "    \n",
    "    return augmented_images, labels\n",
    "\n",
    "G, label = sample_images(loaded_images,full_labels,full_idx_per_label,device=device,n_sample=2)\n",
    "print(G.size())\n",
    "print(label)"
   ]
  },
  {
   "cell_type": "code",
   "execution_count": 24,
   "id": "47bc50a1",
   "metadata": {},
   "outputs": [],
   "source": [
    "\n",
    "scheduler = torch.optim.lr_scheduler.StepLR(optimizer, step_size=1, gamma=0.8)"
   ]
  },
  {
   "cell_type": "code",
   "execution_count": 32,
   "id": "a2614be7",
   "metadata": {},
   "outputs": [
    {
     "name": "stdout",
     "output_type": "stream",
     "text": [
      "[1,  2000] loss: 0.025\n",
      "[1,  4000] loss: 0.024\n",
      "[1,  6000] loss: 0.024\n",
      "[1,  8000] loss: 0.024\n",
      "[1, 10000] loss: 0.024\n",
      "[2,  2000] loss: 0.024\n",
      "[2,  4000] loss: 0.023\n",
      "[2,  6000] loss: 0.023\n",
      "[2,  8000] loss: 0.023\n",
      "[2, 10000] loss: 0.023\n",
      "[3,  2000] loss: 0.023\n",
      "[3,  4000] loss: 0.022\n",
      "[3,  6000] loss: 0.022\n",
      "[3,  8000] loss: 0.022\n",
      "[3, 10000] loss: 0.022\n",
      "[4,  2000] loss: 0.022\n",
      "[4,  4000] loss: 0.022\n",
      "[4,  6000] loss: 0.022\n",
      "[4,  8000] loss: 0.021\n",
      "[4, 10000] loss: 0.022\n",
      "[5,  2000] loss: 0.021\n",
      "[5,  4000] loss: 0.021\n",
      "[5,  6000] loss: 0.021\n",
      "[5,  8000] loss: 0.021\n",
      "[5, 10000] loss: 0.021\n",
      "[6,  2000] loss: 0.021\n",
      "[6,  4000] loss: 0.021\n",
      "[6,  6000] loss: 0.021\n",
      "[6,  8000] loss: 0.021\n",
      "[6, 10000] loss: 0.020\n",
      "[7,  2000] loss: 0.020\n",
      "[7,  4000] loss: 0.020\n",
      "[7,  6000] loss: 0.020\n",
      "[7,  8000] loss: 0.020\n",
      "[7, 10000] loss: 0.020\n",
      "[8,  2000] loss: 0.020\n",
      "[8,  4000] loss: 0.020\n",
      "[8,  6000] loss: 0.020\n",
      "[8,  8000] loss: 0.020\n",
      "[8, 10000] loss: 0.020\n",
      "[9,  2000] loss: 0.020\n",
      "[9,  4000] loss: 0.020\n",
      "[9,  6000] loss: 0.020\n",
      "[9,  8000] loss: 0.020\n",
      "[9, 10000] loss: 0.020\n",
      "[10,  2000] loss: 0.020\n",
      "[10,  4000] loss: 0.020\n",
      "[10,  6000] loss: 0.020\n",
      "[10,  8000] loss: 0.020\n",
      "[10, 10000] loss: 0.019\n",
      "Finished Training\n"
     ]
    }
   ],
   "source": [
    "for epoch in range(10):  # loop over the dataset multiple times\n",
    "    \n",
    "    scheduler.step()\n",
    "    \n",
    "    running_loss = 0.0\n",
    "    for i in range(10000):\n",
    "        # get the inputs; data is a list of [inputs, labels]\n",
    "        inputs, labels = sample_images(loaded_images, full_labels, full_idx_per_label,\n",
    "                                       device=device, n_sample=2)\n",
    "\n",
    "        # zero the parameter gradients\n",
    "        optimizer.zero_grad()\n",
    "\n",
    "        # forward + backward + optimize\n",
    "        outputs = m(model(inputs))\n",
    "        #print(outputs.size(), labels.size())\n",
    "        loss = criterion(outputs, labels)\n",
    "        loss.backward()\n",
    "        optimizer.step()\n",
    "\n",
    "        # print statistics\n",
    "        running_loss += loss.item()\n",
    "        if i % 2000 == 1999:    # print every 2000 mini-batches\n",
    "            print(f'[{epoch + 1}, {i + 1:5d}] loss: {running_loss / 2000:.3f}')\n",
    "            running_loss = 0.0\n",
    "\n",
    "print('Finished Training')\n"
   ]
  },
  {
   "cell_type": "code",
   "execution_count": 33,
   "id": "725aa4d3",
   "metadata": {},
   "outputs": [],
   "source": [
    "torch.save(model.state_dict(), 'saved_model/cxr14_overlapping_labels_bceloss_resnet50_2.pth')"
   ]
  },
  {
   "cell_type": "code",
   "execution_count": null,
   "id": "e3bdec33",
   "metadata": {},
   "outputs": [],
   "source": [
    "model2 = torch.hub.load('pytorch/vision:v0.5.0', 'resnet50', pretrained=False)\n",
    "model2.fc = nn.Linear(2048, 15)\n",
    "\n",
    "model2.load_state_dict(torch.load('saved_model/cxr14_overlapping_labels_bceloss_resnet50_2.pth'))\n",
    "model.to(device)\n",
    "model2.eval()"
   ]
  },
  {
   "cell_type": "code",
   "execution_count": 35,
   "id": "97594ad0",
   "metadata": {},
   "outputs": [],
   "source": [
    "preprocess_test = transforms.Compose([\n",
    "    transforms.Resize(256),\n",
    "    transforms.CenterCrop(224),\n",
    "    transforms.ToTensor(),\n",
    "    transforms.Normalize(mean=[0.485, 0.456, 0.406], std=[0.229, 0.224, 0.225]),\n",
    "])\n",
    "\n",
    "\n",
    "#test_files\n",
    "#test_labels\n",
    "\n",
    "test_images= []\n",
    "\n",
    "for i in range(len(test_files)):\n",
    "\n",
    "    file_to_load = '/home/user/Chest_X_Ray_Data/CXR14/CXR8/images/extracted/'+test_files[i]\n",
    "    img = imread(file_to_load, as_gray=False, pilmode=\"RGB\") \n",
    "    img = Image.fromarray(img)\n",
    "    img = PIL.ImageOps.equalize(img)\n",
    "    img = preprocess_test(img)\n",
    "    test_images.append(img)\n",
    "\n"
   ]
  },
  {
   "cell_type": "code",
   "execution_count": 36,
   "id": "1b640ed8",
   "metadata": {},
   "outputs": [],
   "source": [
    "test_predict = []\n",
    "\n",
    "for i in range(len(test_images)):\n",
    "    img = torch.unsqueeze(test_images[i], dim=0).to(device)\n",
    "    outputs = m(model(img)).cpu().detach().numpy()\n",
    "    test_predict.append(outputs)"
   ]
  },
  {
   "cell_type": "code",
   "execution_count": 37,
   "id": "13d88797",
   "metadata": {},
   "outputs": [
    {
     "name": "stdout",
     "output_type": "stream",
     "text": [
      "(25596, 15) (25596, 15)\n"
     ]
    }
   ],
   "source": [
    "test_predict = np.squeeze(np.array(test_predict))\n",
    "\n",
    "print(test_predict.shape, test_labels.shape)"
   ]
  },
  {
   "cell_type": "code",
   "execution_count": 38,
   "id": "fe1fa840",
   "metadata": {},
   "outputs": [
    {
     "name": "stdout",
     "output_type": "stream",
     "text": [
      "(15,)\n",
      "Atelectasis ,\n",
      "\t Accuracy :  0.8717377715268011  AUC:  0.6160861892919653 F1:  0.0036418816388467377\n",
      "Cardiomegaly ,\n",
      "\t Accuracy :  0.9582356618221597  AUC:  0.783036319379689 F1:  0.0\n",
      "Effusion ,\n",
      "\t Accuracy :  0.818057508985779  AUC:  0.7083589957321912 F1:  0.00299721687004924\n",
      "Infiltration ,\n",
      "\t Accuracy :  0.7453117674636662  AUC:  0.6128366309220292 F1:  0.17699785380633756\n",
      "Mass ,\n",
      "\t Accuracy :  0.9317080793874043  AUC:  0.6424919081336642 F1:  0.0\n",
      "Nodule ,\n",
      "\t Accuracy :  0.9365916549460853  AUC:  0.5716111129230694 F1:  0.0\n",
      "Pneumonia ,\n",
      "\t Accuracy :  0.9783169245194562  AUC:  0.5594289509348811 F1:  0.0\n",
      "Pneumothorax ,\n",
      "\t Accuracy :  0.8958821690889202  AUC:  0.6602530407111702 F1:  0.0\n",
      "Consolidation ,\n",
      "\t Accuracy :  0.9290904828879513  AUC:  0.5835474601051398 F1:  0.0\n",
      "Edema ,\n",
      "\t Accuracy :  0.9638615408657603  AUC:  0.6838710511411253 F1:  0.0\n",
      "Emphysema ,\n",
      "\t Accuracy :  0.957298015314893  AUC:  0.611007506260133 F1:  0.0\n",
      "Fibrosis ,\n",
      "\t Accuracy :  0.98300515705579  AUC:  0.6101136725465017 F1:  0.0\n",
      "Pleural_Thickening ,\n",
      "\t Accuracy :  0.9553445850914205  AUC:  0.5789457941688912 F1:  0.0\n",
      "Hernia ,\n",
      "\t Accuracy :  0.9966401000156274  AUC:  0.671830016500597 F1:  0.0\n",
      "No Finding ,\n",
      "\t Accuracy :  0.6147444913267698  AUC:  0.6023862028558578 F1:  0.0\n"
     ]
    }
   ],
   "source": [
    "from sklearn.metrics import roc_auc_score, f1_score\n",
    "\n",
    "acc = np.mean(test_labels == (test_predict>.5),axis=0)\n",
    "print(acc.shape)\n",
    "\n",
    "for i in range(len(disease_names)):\n",
    "    print(disease_names[i], ',\\n\\t Accuracy : ', acc[i], \n",
    "          ' AUC: ', roc_auc_score(test_labels[:,i], test_predict[:,i]),\n",
    "          'F1: ', f1_score(test_labels[:,i], 1.0*(test_predict[:,i]>0.5)))"
   ]
  },
  {
   "cell_type": "code",
   "execution_count": null,
   "id": "56af7f8c",
   "metadata": {},
   "outputs": [],
   "source": []
  },
  {
   "cell_type": "code",
   "execution_count": null,
   "id": "2099a062",
   "metadata": {},
   "outputs": [],
   "source": []
  }
 ],
 "metadata": {
  "kernelspec": {
   "display_name": "Python 3",
   "language": "python",
   "name": "python3"
  },
  "language_info": {
   "codemirror_mode": {
    "name": "ipython",
    "version": 3
   },
   "file_extension": ".py",
   "mimetype": "text/x-python",
   "name": "python",
   "nbconvert_exporter": "python",
   "pygments_lexer": "ipython3",
   "version": "3.6.9"
  }
 },
 "nbformat": 4,
 "nbformat_minor": 5
}
