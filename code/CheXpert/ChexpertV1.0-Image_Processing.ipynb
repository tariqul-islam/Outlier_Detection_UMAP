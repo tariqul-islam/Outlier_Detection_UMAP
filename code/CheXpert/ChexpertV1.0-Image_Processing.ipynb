{
 "cells": [
  {
   "cell_type": "code",
   "execution_count": 2,
   "metadata": {},
   "outputs": [],
   "source": [
    "import numpy as np\n",
    "import pandas as pd\n",
    "\n",
    "import matplotlib.pyplot as plt\n",
    "\n",
    "%matplotlib notebook\n",
    "\n",
    "%load_ext autoreload\n",
    "%autoreload 2"
   ]
  },
  {
   "cell_type": "code",
   "execution_count": 3,
   "metadata": {},
   "outputs": [],
   "source": [
    "#data = pd.read_csv('train.csv')"
   ]
  },
  {
   "cell_type": "code",
   "execution_count": 4,
   "metadata": {},
   "outputs": [],
   "source": [
    "def disease_labels(line):\n",
    "    dis = []\n",
    "    for i in range(len(line)):\n",
    "        if line[i] == '':\n",
    "            dis.append(3) #Blank/Not Mentioned\n",
    "            continue\n",
    "        else:\n",
    "            token = int(float(line[i]))\n",
    "            \n",
    "        if token == 1:\n",
    "            dis.append(1) #Present\n",
    "        elif token == 0:\n",
    "            dis.append(0) #Absent\n",
    "        elif token == -1:\n",
    "            dis.append(2) #Uncertain\n",
    "        else:\n",
    "            print('Something Wrong')\n",
    "            \n",
    "    return dis\n",
    "        \n",
    "    "
   ]
  },
  {
   "cell_type": "code",
   "execution_count": 6,
   "metadata": {},
   "outputs": [
    {
     "name": "stdout",
     "output_type": "stream",
     "text": [
      "Path,Sex,Age,Frontal/Lateral,AP/PA,No Finding,Enlarged Cardiomediastinum,Cardiomegaly,Lung Opacity,Lung Lesion,Edema,Consolidation,Pneumonia,Atelectasis,Pneumothorax,Pleural Effusion,Pleural Other,Fracture,Support Devices\n",
      "\n",
      "(223414, 14) 223414\n",
      "Total no of images:  1\n"
     ]
    }
   ],
   "source": [
    "filename = []\n",
    "patient_id = []\n",
    "sex = []\n",
    "age = []\n",
    "extract = 'Frontal'\n",
    "view = []\n",
    "dis = []\n",
    "\n",
    "i = 0\n",
    "\n",
    "with open('CheXpert-v1.0-small/train.csv', 'r') as f:\n",
    "    line = f.readline()\n",
    "    print(line)\n",
    "    \n",
    "    i = i+1\n",
    "    \n",
    "    for line in f:\n",
    "        line = line.replace('\\n','')\n",
    "        line = line.split(',')\n",
    "        #print(line)\n",
    "\n",
    "        filename.append(line[0])\n",
    "        patient_id.append(int(line[0][33:38]))\n",
    "        #print(patient_id)\n",
    "        sex.append(line[1])\n",
    "        age.append(line[2])\n",
    "        if line[4] == \"\":\n",
    "            view.append('LATERAL')\n",
    "        else:\n",
    "            view.append(line[4])\n",
    "        dis.append(disease_labels(line[5:19]))\n",
    "\n",
    "            #print(dis)\n",
    "        \n",
    "        #break\n",
    "\n",
    "diseases = np.array(dis)\n",
    "\n",
    "print(diseases.shape, len(view))\n",
    "print('Total no of images: ', i)"
   ]
  },
  {
   "cell_type": "code",
   "execution_count": null,
   "metadata": {},
   "outputs": [],
   "source": [
    "import torch\n",
    "from torchvision import transforms\n",
    "\n",
    "device = torch.device(\"cuda:1\" if torch.cuda.is_available() else \"cpu\")\n",
    "\n",
    "\n",
    "model = torch.hub.load('pytorch/vision:v0.5.0', 'densenet121', pretrained=True).to(device)\n",
    "# or any of these variants\n",
    "#model = torch.hub.load('pytorch/vision:v0.5.0', 'densenet169', pretrained=True).to(device)\n",
    "#model = torch.hub.load('pytorch/vision:v0.5.0', 'densenet201', pretrained=True).to(device)\n",
    "#model = torch.hub.load('pytorch/vision:v0.5.0', 'densenet161', pretrained=True).to(device)\n",
    "model.eval()\n",
    "\n",
    "\n",
    "def run_through_denseNetPyTorch(img, densenet_model, device):\n",
    "    \n",
    "    img = torch.unsqueeze(img.to(device), 0)\n",
    "    \n",
    "    with torch.no_grad():\n",
    "        features = densenet_model.features( img )\n",
    "        f_relu = torch.nn.functional.relu( features )\n",
    "        pool = torch.nn.functional.adaptive_avg_pool2d( f_relu, (1,1) )\n",
    "\n",
    "        y_st = pool.cpu().numpy().reshape(-1)\n",
    "    \n",
    "    return y_st"
   ]
  },
  {
   "cell_type": "code",
   "execution_count": 8,
   "metadata": {},
   "outputs": [
    {
     "name": "stdout",
     "output_type": "stream",
     "text": [
      "Completed  0  of  223414\n",
      "Completed  10000  of  223414\n",
      "Completed  20000  of  223414\n",
      "Completed  30000  of  223414\n",
      "Completed  40000  of  223414\n",
      "Completed  50000  of  223414\n",
      "Completed  60000  of  223414\n",
      "Completed  70000  of  223414\n",
      "Completed  80000  of  223414\n",
      "Completed  90000  of  223414\n",
      "Completed  100000  of  223414\n",
      "Completed  110000  of  223414\n",
      "Completed  120000  of  223414\n",
      "Completed  130000  of  223414\n",
      "Completed  140000  of  223414\n",
      "Completed  150000  of  223414\n",
      "Completed  160000  of  223414\n",
      "Completed  170000  of  223414\n",
      "Completed  180000  of  223414\n",
      "Completed  190000  of  223414\n",
      "Completed  200000  of  223414\n",
      "Completed  210000  of  223414\n",
      "Completed  220000  of  223414\n"
     ]
    }
   ],
   "source": [
    "from imageio import imread \n",
    "import PIL \n",
    "from PIL import Image \n",
    "from torchvision import transforms \n",
    "\n",
    "preprocess = transforms.Compose([\n",
    "    transforms.Resize(256),\n",
    "    transforms.CenterCrop(224),\n",
    "    transforms.ToTensor(),\n",
    "    transforms.Normalize(mean=[0.485, 0.456, 0.406], std=[0.229, 0.224, 0.225]),\n",
    "])\n",
    "\n",
    "\n",
    "images = []\n",
    "\n",
    "X_train_0 = []\n",
    "\n",
    "for i in range(len(filename)):\n",
    "    if i%10000 == 0:\n",
    "        print('Completed ', i, ' of ', len(filename))\n",
    "    \n",
    "    \n",
    "    fname = filename[i]\n",
    "    #print(fname)\n",
    "    img = imread(fname, as_gray=False, pilmode=\"RGB\") \n",
    "    \n",
    "    img = Image.fromarray(img)\n",
    "    img = PIL.ImageOps.equalize(img)\n",
    "    img = preprocess(img)\n",
    "    \n",
    "    X_train_0.append(run_through_denseNetPyTorch(img=img, densenet_model=model, device=device))\n",
    "    \n",
    "    #images.append(img)"
   ]
  },
  {
   "cell_type": "code",
   "execution_count": 9,
   "metadata": {},
   "outputs": [],
   "source": [
    "data_dict = {}\n",
    "data_dict['filename'] = filename\n",
    "data_dict['patient_id'] = patient_id\n",
    "data_dict['sex'] = sex\n",
    "data_dict['age'] = age\n",
    "data_dict['view'] = view\n",
    "\n",
    "X_train_0 = np.array(X_train_0)\n",
    "\n",
    "with open(\"Chexpert_Train_DenseNet121_Complete.npy\", 'wb') as f:\n",
    "    np.save(f,X_train_0)\n",
    "    np.save(f,diseases)\n",
    "    np.save(f,data_dict)"
   ]
  },
  {
   "cell_type": "code",
   "execution_count": 34,
   "metadata": {},
   "outputs": [
    {
     "name": "stdout",
     "output_type": "stream",
     "text": [
      "(223414, 1024)\n",
      "(223414,)\n"
     ]
    }
   ],
   "source": [
    "from sklearn.model_selection import train_test_split \n",
    "\n",
    "X_train = X_train_0\n",
    "y_train = diseases[:,0]\n",
    "\n",
    "print(X_train.shape)\n",
    "print(y_train.shape)"
   ]
  },
  {
   "cell_type": "code",
   "execution_count": 13,
   "metadata": {},
   "outputs": [
    {
     "data": {
      "image/png": "[encoded data removed]",
      "text/plain": [
       "<Figure size 432x288 with 2 Axes>"
      ]
     },
     "metadata": {},
     "output_type": "display_data"
    }
   ],
   "source": [
    "import umap \n",
    " \n",
    "    \n",
    "import matplotlib.pyplot as plt\n",
    "%matplotlib inline\n",
    "    \n",
    "np.random.seed(100) \n",
    "ump = umap.UMAP(n_neighbors=10, \n",
    "        min_dist=0.001, \n",
    "        n_components=2, \n",
    "        random_state=150, \n",
    "        n_epochs = 300,\n",
    "        metric= 'euclidean') \n",
    " \n",
    "y_umap = ump.fit_transform(X_train) \n",
    " \n",
    "plt.figure() \n",
    "plt.scatter(y_umap[:,0], y_umap[:,1], c=y_train, s=0.01, cmap='Spectral') \n",
    " \n",
    "cbar = plt.colorbar(boundaries=np.arange(3)-0.5) \n",
    "cbar.set_ticks(np.arange(3)) \n",
    "#cbar.set_ticklabels(classes) "
   ]
  },
  {
   "cell_type": "code",
   "execution_count": 36,
   "metadata": {},
   "outputs": [
    {
     "name": "stdout",
     "output_type": "stream",
     "text": [
      "(223414, 2)\n"
     ]
    },
    {
     "data": {
      "image/png": "[encoded data removed]",
      "text/plain": [
       "<Figure size 432x288 with 2 Axes>"
      ]
     },
     "metadata": {},
     "output_type": "display_data"
    }
   ],
   "source": [
    "print(y_umap.shape)\n",
    "\n",
    "plt.figure() \n",
    "plt.scatter(y_umap[:,0], y_umap[:,1], c=y_train, s=1, cmap='jet') \n",
    " \n",
    "cbar = plt.colorbar(boundaries=np.arange(3)-0.5) \n",
    "cbar.set_ticks(np.arange(3)) \n",
    "#cbar.set_ticklabels(classes) "
   ]
  },
  {
   "cell_type": "code",
   "execution_count": 27,
   "metadata": {},
   "outputs": [
    {
     "data": {
      "text/plain": [
       "(array([ 9588., 30125., 36190., 34288., 41198., 40716.,  4270.,   421.,\n",
       "         9982., 16636.]),\n",
       " array([-2.2561798 , -1.0794889 ,  0.09720211,  1.2738931 ,  2.450584  ,\n",
       "         3.627275  ,  4.803966  ,  5.980657  ,  7.1573477 ,  8.334039  ,\n",
       "         9.51073   ], dtype=float32),\n",
       " <BarContainer object of 10 artists>)"
      ]
     },
     "execution_count": 27,
     "metadata": {},
     "output_type": "execute_result"
    },
    {
     "data": {
      "image/png": "[encoded data removed]",
      "text/plain": [
       "<Figure size 432x288 with 1 Axes>"
      ]
     },
     "metadata": {},
     "output_type": "display_data"
    }
   ],
   "source": [
    "plt.figure()\n",
    "plt.hist(y_umap[:,0])\n",
    "\n",
    "plt.hist(y_umap[:,1])\n"
   ]
  },
  {
   "cell_type": "code",
   "execution_count": 32,
   "metadata": {},
   "outputs": [
    {
     "name": "stdout",
     "output_type": "stream",
     "text": [
      "[]\n"
     ]
    }
   ],
   "source": [
    "print(y_train)"
   ]
  },
  {
   "cell_type": "code",
   "execution_count": null,
   "metadata": {},
   "outputs": [],
   "source": []
  }
 ],
 "metadata": {
  "kernelspec": {
   "display_name": "Python 3",
   "language": "python",
   "name": "python3"
  },
  "language_info": {
   "codemirror_mode": {
    "name": "ipython",
    "version": 3
   },
   "file_extension": ".py",
   "mimetype": "text/x-python",
   "name": "python",
   "nbconvert_exporter": "python",
   "pygments_lexer": "ipython3",
   "version": "3.6.9"
  }
 },
 "nbformat": 4,
 "nbformat_minor": 2
}
